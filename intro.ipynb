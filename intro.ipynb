{
 "metadata": {
  "language_info": {
   "codemirror_mode": {
    "name": "ipython",
    "version": 3
   },
   "file_extension": ".py",
   "mimetype": "text/x-python",
   "name": "python",
   "nbconvert_exporter": "python",
   "pygments_lexer": "ipython3",
   "version": "3.6.6-final"
  },
  "orig_nbformat": 2,
  "kernelspec": {
   "name": "Python 3.6.6 64-bit ('venv': venv)",
   "display_name": "Python 3.6.6 64-bit ('venv': venv)",
   "metadata": {
    "interpreter": {
     "hash": "9880cd8c7a4078c85716d5373ccb3b0726fd191c05d0f692cdede6941332f7ca"
    }
   }
  }
 },
 "nbformat": 4,
 "nbformat_minor": 2,
 "cells": [
  {
   "cell_type": "code",
   "execution_count": null,
   "metadata": {},
   "outputs": [],
   "source": [
    "# PANDA Tutorial\n",
    "This notebook covers basic usage of PANDA: the Platform for Architecture-Neutral Dynamic Analysis."
   ]
  },
  {
   "cell_type": "code",
   "execution_count": 1,
   "metadata": {
    "tags": []
   },
   "outputs": [
    {
     "output_type": "stream",
     "name": "stdout",
     "text": "Requirement already satisfied: pandare in /home/andrew/git/panda/panda/python/core (0.1.1.2)\nRequirement already satisfied: cffi&gt;=1.13 in /home/andrew/git/panda/panda/python/venv/lib/python3.6/site-packages/cffi-1.14.2-py3.6-linux-x86_64.egg (from pandare) (1.14.2)\nRequirement already satisfied: colorama in /home/andrew/git/panda/panda/python/venv/lib/python3.6/site-packages/colorama-0.4.3-py3.6.egg (from pandare) (0.4.3)\nRequirement already satisfied: protobuf in /home/andrew/git/panda/panda/python/venv/lib/python3.6/site-packages (from pandare) (3.13.0)\nRequirement already satisfied: pycparser in /home/andrew/git/panda/panda/python/venv/lib/python3.6/site-packages/pycparser-2.20-py3.6.egg (from cffi&gt;=1.13-&gt;pandare) (2.20)\nRequirement already satisfied: setuptools in /home/andrew/git/panda/panda/python/venv/lib/python3.6/site-packages (from protobuf-&gt;pandare) (50.3.0)\nRequirement already satisfied: six&gt;=1.9 in /home/andrew/git/panda/panda/python/venv/lib/python3.6/site-packages/six-1.15.0-py3.6.egg (from protobuf-&gt;pandare) (1.15.0)\nusing generic i386_wheezy\nLoading libpanda from /home/andrew/git/panda/build\n\u001b[32m[PYPANDA] \u001b[39m\u001b[1mPanda args: [/home/andrew/git/panda/build/i386-softmmu/libpanda-i386.so -L /home/andrew/git/panda/build/pc-bios /home/andrew/.panda/wheezy_panda2.qcow2 -display none -m 128M -serial unix:/tmp/pypanda_s5m0397a9,server,nowait -monitor unix:/tmp/pypanda_m0m_41rib,server,nowait]\u001b[0m\nLoaded PANDA\n"
    }
   ],
   "source": [
    "'''\n",
    "Install pandare and initalize a PANDA object.\n",
    "The 'generic' argument will fetch (and cache) an i386 ubuntu virtual machine for our analysis\n",
    "'''\n",
    "!pip install pandare\n",
    "\n",
    "from pandare import Panda, blocking\n",
    "panda = Panda(generic='i386_wheezy')\n",
    "\n",
    "print(\"Loaded PANDA\")"
   ]
  },
  {
   "source": [
    "## Controlling the Guest Virtual Machine\n",
    "\n",
    "Before we do any sort of analysis, let's figure out how to drive\n",
    "the execution of the guest. We do this this in a \"blocking\" function\n",
    "(named after the fact that it will block on guest behavior).\n",
    "First we revert to a snapshot named \"root\" which we've created\n",
    "in all the _generic_ virtual machines. This snapshot was taken\n",
    "just after logging in to a system.\n",
    "\n",
    "Then we'll execute a command by typing into a serial console,\n",
    "and pressing enter. panda.run_serial_cmd will capture all the\n",
    "output printed until the next bash prompt is printed.\n",
    "\n",
    "In particular, we'll run `file` on `ls`.\n",
    "\n",
    "Then run the guest and the asynchronous `run_commands` function\n",
    "will already be queued up to run (thanks to its decorator)."
   ],
   "cell_type": "markdown",
   "metadata": {}
  },
  {
   "cell_type": "code",
   "execution_count": 3,
   "metadata": {
    "tags": []
   },
   "outputs": [
    {
     "output_type": "stream",
     "name": "stdout",
     "text": "Running commands...\nResults:  /bin/ls: ELF 32-bit LSB executable, Intel 80386, version 1 (SYSV), dynamically linked (uses shared libs), for GNU/Linux 2.6.26, BuildID[sha1]=0xd3280633faaabf56a14a26693d2f810a32222e51, stripped\n"
    }
   ],
   "source": [
    "@panda.queue_blocking\n",
    "def run_commands():\n",
    "    print(\"Running commands...\")\n",
    "    panda.revert_sync(\"root\")\n",
    "    print(\"Results: \", panda.run_serial_cmd(\"file /bin/ls\"))\n",
    "    # Now we're done with our analysis so we want panda.run() to unblock - \n",
    "    # we have to tell panda that we're done to make that happen\n",
    "    panda.end_analysis()\n",
    "\n",
    "panda.run()"
   ]
  },
  {
   "source": [
    "## Introspection\n",
    "Now let's some basic introspection. While we're typing the\n",
    "head command and waiting for output, the guest system is running\n",
    "a bunch of code. Let's capture the address of every unique basic block.\n",
    "\n",
    "We'll do this by defining a \"PANDA callback\" which will be run\n",
    "whenever a specific event occurs. In this case, we want our code\n",
    "to run before each basic block executes.\n",
    "\n",
    "Then we'll queue up `run_commands` to run again (since it already ran, it's no longer in the queue) and run the analysis again."
   ],
   "cell_type": "markdown",
   "metadata": {}
  },
  {
   "cell_type": "code",
   "execution_count": 4,
   "metadata": {
    "tags": []
   },
   "outputs": [
    {
     "output_type": "stream",
     "name": "stdout",
     "text": "Warning: disabling TB chaining to support before_block_exec callback\nRunning commands...\nResults:  /bin/ls: ELF 32-bit LSB executable, Intel 80386, version 1 (SYSV), dynamically linked (uses shared libs), for GNU/Linux 2.6.26, BuildID[sha1]=0xd3280633faaabf56a14a26693d2f810a32222e51, stripped\nTotal block count:  15207\n"
    }
   ],
   "source": [
    "blocks = set()\n",
    "\n",
    "@panda.cb_before_block_exec\n",
    "def simple_before_block_callback(cpu, tb):\n",
    "    pc = panda.current_pc(cpu)\n",
    "    blocks.add(pc)\n",
    "\n",
    "panda.queue_async(run_commands)\n",
    "panda.run()\n",
    "print(\"Total block count: \", len(blocks))\n"
   ]
  },
  {
   "source": [
    "More than ten-thousand unique blocks were run while we were running a simple command.\n",
    "What's going in this system?\n",
    "\n",
    "\n",
    "## Introspection\n",
    "Let's use PANDA's operating-system introspection (`OSI`)\n",
    "plugin to learn about what the system's doing.\n",
    "\n",
    "But first, we'll disable our previously-registered callback\n",
    "since we no longer want it to run.\n",
    "\n",
    "We'll also need a handle to the foreign-function\n",
    "interface (`ffi`) used by panda here (this will chnange in\n",
    "a future version of PANDA).\n",
    "\n",
    "Then we'll set up a different callback to run whenever\n",
    "the ASID (process ID) changes. In this callback, we'll use the `OSI` plugin\n",
    "to get the current process name."
   ],
   "cell_type": "markdown",
   "metadata": {}
  },
  {
   "cell_type": "code",
   "execution_count": 5,
   "metadata": {
    "tags": []
   },
   "outputs": [],
   "source": [
    "from pandare import ffi\n",
    "\n",
    "panda.disable_callback('simple_before_block_callback')\n",
    "\n",
    "# Load operating-system introspection plugin\n",
    "panda.load_plugin(\"osi\")\n",
    "\n",
    "procs = set()\n",
    "@panda.cb_asid_changed\n",
    "def asid_changed_procnames(cpu, old_asid, new_asid):\n",
    "    # Try to get the current process\n",
    "    proc = panda.plugins['osi'].get_current_process(cpu) \n",
    "    if proc != ffi.NULL:\n",
    "        name = ffi.string(proc.name).decode()\n",
    "        procs.add(name)\n",
    "    # PANDA supports actively modifying the guest behvior.\n",
    "    # For example, you can prevent an ASID change. But we don't\n",
    "    # want to do that so we return 0\n",
    "    return 0\n",
    "\n",
    "# Again, we queue up our blocking run_commands function to run\n",
    "panda.queue_async(run_commands)\n",
    "panda.run()\n",
    "\n",
    "print(\"Processes observed:\")\n",
    "for name in procs:\n",
    "    print(name)\n"
   ]
  },
  {
   "source": [
    "Clearly multiple processes are running - that's usually the case when working with\n",
    "a whole-system analysis platform like PANDA.\n",
    "\n",
    "But let's focus in on `file` and try learning more about it.\n",
    "\n",
    "Again, we'll disable our prior callback since we're done with that.\n",
    "\n",
    "Then we'll load the `syscalls2` plugin which provides an additional set of\n",
    "`panda plugin-to-plugin` (ppp) callbacks. With `syscalls2` we can register\n",
    "a callack to run whenever a specific syscall is about to be called from userspace. For example, when working with the `read` system call,\n",
    "a callback registered to run on `sys_read_enter` will run after userspace issues a `read` system call, but before the kernel processes it.\n",
    "On the other hand, a callback registered to run on `sys_read_return` will run after the kernel has finished processing the system call, but before userspace has had a chance\n",
    "to continue execution.\n",
    "\n",
    "Using `syscalls2` we'll see what files are opened by the `file` process."
   ],
   "cell_type": "markdown",
   "metadata": {}
  },
  {
   "cell_type": "code",
   "execution_count": 5,
   "metadata": {
    "tags": []
   },
   "outputs": [
    {
     "output_type": "stream",
     "name": "stdout",
     "text": "Running commands...\n"
    }
   ],
   "source": [
    "panda.disable_callback('asid_changed_procnames')\n",
    "\n",
    "panda.load_plugin(\"syscalls2\")\n",
    "\n",
    "# Register a PANDA Plugin-to-Plugin callback\n",
    "# Arguments are described in syscalls2 documentation\n",
    "# generally cpu, pc, [syscall args, ...]\n",
    "@panda.ppp(\"syscalls2\", \"on_sys_open_enter\")\n",
    "def syscalls_file_open(cpu, pc, fname_ptr, flags, mode):\n",
    "    print(\"OPEN\")\n",
    "    proc = panda.plugins['osi'].get_current_process(cpu) \n",
    "    if proc == ffi.NULL:\n",
    "        print(\"NULL\")\n",
    "        return\n",
    "    name = ffi.string(proc.name).decode()\n",
    "    print(name)\n",
    "    if name == 'file':\n",
    "        fname = panda.read_str(cpu, fname_ptr)\n",
    "        print(fname)\n",
    "\n",
    "panda.queue_async(run_commands)\n",
    "panda.run()"
   ]
  },
  {
   "source": [
    "## Taint Analysis - Setup\n",
    "\n",
    "Let's figure out how the contents of the magicfile affect `file`'s behavior. To do this, we'll use a dynamic taint analysis.\n",
    "\n",
    "However, dynamic taint analyses are slow and we wouldn't want to slow down the guest so much that\n",
    "it changes its behavior. To avoid this, we're going to capture a `PANDA recording` of the guest executing our commands\n",
    "and then conduct our analysis on that recording."
   ],
   "cell_type": "markdown",
   "metadata": {}
  },
  {
   "cell_type": "code",
   "execution_count": 3,
   "metadata": {
    "tags": []
   },
   "outputs": [
    {
     "output_type": "stream",
     "name": "stdout",
     "text": "Finished recording\n"
    }
   ],
   "source": [
    "\n",
    "@panda.queue_blocking\n",
    "def take_recording():\n",
    "    panda.record_cmd(\"file /bin/ls\", recording_name=\"file_ls\")\n",
    "    panda.end_analysis()\n",
    "\n",
    "panda.run()"
   ]
  },
  {
   "source": [
    "## Taint Analysis\n",
    "\n",
    "Our recording has placed two files on disk - `file_ls-rr-nondet.log` and `file_ls-rr-snp`. Together these files compactly and precisely\n",
    "capture everything the guest was doing while we were running our command. Now we'll run that same replay with a taint analysis.\n",
    "\n",
    "At a high level, a taint analysis is simply tracking how data flow from a source into the rest of a system. In this example, we will label\n",
    "an input file as tainted and then use PANDA's taint system: `taint2` to track where those data go.\n",
    "\n",
    "There are three types of plugins in PANDA's taint ecosystem:\n",
    "1) The core taint system (the `taint2` plugin). This tracks how tainted data flow through a system. When tainted data is copied or computed on, the outputs are labeled as tainted.\n",
    "2) Taint-labeling plugins (`filetaint`, `tainted_net`, `tainted_mmio`): these plugins apply taint labels to data which the taint system then tracks\n",
    "3) Taint-querying plugins (`tainted_branch`, `tainted_instr`): these plugins track when tainted data are used.\n",
    "\n",
    "In general, if you're doing a taint analysis with PANDA, you'll want to use one plugin from each of these categories.\n",
    "\n",
    "### Replaying a recording\n",
    "\n",
    "So now that we have a recording, we need to get the system to re-execute the same behavior."
   ],
   "cell_type": "markdown",
   "metadata": {}
  },
  {
   "cell_type": "code",
   "execution_count": null,
   "metadata": {},
   "outputs": [],
   "source": [
    "# Queue up the replay to run\n",
    "panda.run_replay(\"file_ls\")\n",
    "\n",
    "# Actually run it\n",
    "panda.run()"
   ]
  },
  {
   "source": [
    "## Taint Analysis: Labeling and Tracking\n",
    "\n",
    "Now let's label data in the magicfile as tainted and identify where tainted branches in the `file` process are. In other words, we're going to find the addresses in `file` where there are branches that are controlled by data in this input file.\n",
    "\n",
    "Because there will be a lot of data, we'll want to store the results effeciently. Fortunately, the tainted_branch plugin (among others) only supports outputting results into a `pandalog`: a binary format used by PANDA plugins."
   ],
   "cell_type": "markdown",
   "metadata": {}
  },
  {
   "cell_type": "code",
   "execution_count": null,
   "metadata": {},
   "outputs": [],
   "source": [
    "panda.load_plugin(\"taint2\")\n",
    "panda.load_plugin(\"file_taint\", args={\"filename\": \"/usr/share/misc/magic.mgc\"})\n",
    "panda.load_plugin(\"tainted_branch\")\n",
    "\n",
    "# Store results in output.plog\n",
    "panda.set_pandalog(\"output.plog\")\n",
    "\n",
    "# Queue up the replay to run\n",
    "panda.run_replay(\"file_ls\")\n",
    "# Actually run it\n",
    "panda.run()"
   ]
  },
  {
   "source": [
    "## Taint Analysis: Analyze Results\n",
    "\n",
    "The pandalog (also called a plog) is an efficient way to store data, but we actually want to see the results. Let's use PANDA's `plog_reader` to see what's in it"
   ],
   "cell_type": "markdown",
   "metadata": {}
  },
  {
   "cell_type": "code",
   "execution_count": null,
   "metadata": {},
   "outputs": [],
   "source": [
    "from panda import PLogReader\n",
    "from google.protobuf.json_format import MessageToJson\n",
    "\n",
    "with PLogReader(\"output.plog\") as plr:\n",
    "    for i, m in enumerate(plr):\n",
    "        if i > 0: print(',')\n",
    "        print(MessageToJson(m), end='')"
   ]
  }
 ]
}